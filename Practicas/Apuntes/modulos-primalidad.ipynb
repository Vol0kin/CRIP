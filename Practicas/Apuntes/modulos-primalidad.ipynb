{
 "cells": [
  {
   "cell_type": "markdown",
   "metadata": {},
   "source": [
    "# Sesión inicial: Potencia modular y tests de primalidad\n",
    "\n",
    "En esta primera sesión, vamos a introducir algunos conceptos básicos como la **potencia modular**, la cuál es un elemento clave en la criptografía. Veremos también algunos ejemplos básicos de **tests de primalidad**, los cuáles nos pueden ayudar a determinar si un número es primo o no con un determinado margen de error. Dichos tests también son de mucha utilidad en la criptografía, como estudiaremos más adelante.\n",
    "\n",
    "## Potencia modular\n",
    "\n",
    "### Definición\n",
    "\n",
    "Vamos a ver primero la potencia modular. Dados tres números $a$, $b$ y $m$ tales que $a, b, m \\in \\mathbb{N}$, definimos la potencia modular como:\n",
    "\n",
    "$$ p = a^b \\mod m$$\n",
    "\n",
    "donde $p \\in \\mathbb{N}$ es el resultado de dicha operación.\n",
    "\n",
    "### Versión básica del algoritmo\n",
    "\n",
    "Un algoritmo básico para calcular la potencia modular es el siguiente:"
   ]
  },
  {
   "cell_type": "code",
   "execution_count": 5,
   "metadata": {},
   "outputs": [],
   "source": [
    "def potencia_modular(a, b, m):\n",
    "    # Potencia\n",
    "    p = 1\n",
    "    \n",
    "    # Multiplicar y hacer el modulo en cada iteracion\n",
    "    for _ in range(b):\n",
    "        p = (p * a) % m\n",
    "\n",
    "    return p"
   ]
  },
  {
   "cell_type": "markdown",
   "metadata": {},
   "source": [
    "Este algoritmo realiza en cada iteración la operación $p = p \\cdot a \\mod m$. De esta forma, nos aseguramos siempre que $p < m$, haciendo por tanto que no se estén utilizando números más grandes de la cuenta, lo cuál implicaría utilizar memoria extra (en Python los números pueden ser de un tamaño arbitrario a costa de utilizar memoria extra).\n",
    "\n",
    "Vamos a probar con algunos ejemplos para ver cuánto tarda en hacer el cálculo. Las operaciones a probar son las siguientes:\n",
    "\n",
    "$$19^{66} \\mod 74$$\n",
    "\n",
    "$$711^{586} \\mod 944$$"
   ]
  },
  {
   "cell_type": "code",
   "execution_count": 2,
   "metadata": {},
   "outputs": [
    {
     "name": "stdout",
     "output_type": "stream",
     "text": [
      "La potencia modular de a = 19, b = 66 y m = 74 es 27\n",
      "Tiempo: 5.5789947509765625e-05 segundos\n"
     ]
    }
   ],
   "source": [
    "import time\n",
    "\n",
    "a = 19\n",
    "b = 66\n",
    "m = 74\n",
    "\n",
    "t1 = time.time()\n",
    "p = potencia_modular(a, b, m)\n",
    "t2 = time.time()\n",
    "\n",
    "print(f\"La potencia modular de a = {a}, b = {b} y m = {m} es {p}\")\n",
    "print(f\"Tiempo: {t2-t1} segundos\")"
   ]
  },
  {
   "cell_type": "code",
   "execution_count": 3,
   "metadata": {},
   "outputs": [
    {
     "name": "stdout",
     "output_type": "stream",
     "text": [
      "La potencia modular de a = 711, b = 586 y m = 944 es 257\n",
      "Tiempo: 7.724761962890625e-05 segundos\n"
     ]
    }
   ],
   "source": [
    "a = 711\n",
    "b = 586\n",
    "m = 944\n",
    "\n",
    "t1 = time.time()\n",
    "p = potencia_modular(a, b, m)\n",
    "t2 = time.time()\n",
    "\n",
    "print(f\"La potencia modular de a = {a}, b = {b} y m = {m} es {p}\")\n",
    "print(f\"Tiempo: {t2-t1} segundos\")"
   ]
  },
  {
   "cell_type": "markdown",
   "metadata": {},
   "source": [
    "Vemos que para estos casos pequeños, la función tarda relativamente poco. No obstante, vamos a probar con un caso más grande, para ver qué tal se comporta este algoritmo. Probaremos la siguiente operación:\n",
    "\n",
    "$$11111111^{123456789} \\mod 1122334455$$"
   ]
  },
  {
   "cell_type": "code",
   "execution_count": 4,
   "metadata": {},
   "outputs": [
    {
     "name": "stdout",
     "output_type": "stream",
     "text": [
      "La potencia modular de a = 11111111, b = 123456789 y m = 1122334455 es 393368921\n",
      "Tiempo: 10.7364022731781 segundos\n"
     ]
    }
   ],
   "source": [
    "a = 11111111\n",
    "b = 123456789\n",
    "m = 1122334455\n",
    "\n",
    "t1 = time.time()\n",
    "p = potencia_modular(a, b, m)\n",
    "t2 = time.time()\n",
    "\n",
    "print(f\"La potencia modular de a = {a}, b = {b} y m = {m} es {p}\")\n",
    "print(f\"Tiempo: {t2-t1} segundos\")"
   ]
  },
  {
   "cell_type": "markdown",
   "metadata": {},
   "source": [
    "Vemos que en este caso el tiempo es bastante grande, de más de 10 segundos. Esto es un problema, ya que con números más grandes podemos tardar incluso minutos, años o incluso miles de millones de años, dependiendo de qué valores\n",
    "estemos utilizando.\n",
    "\n",
    "El motivo por el que sucede esto se debe a que el algoritmo anterior es del orden de $\\mathcal{O}(b)$. Esto significa que, al ser un algoritmo de orden lineal, el número de operaciones que se van a realizar depende del valor del exponente $b$. A mayor valor de $b$, mayor número de operaciones se van a hacer.\n",
    "\n",
    "Vemos por tanto que nuestro algoritmo básico, a pesar de funcionar muy bien con casos pequeños, para casos más grandes es completamente inviable. No obstante, es pronto aun para darse por vencidos, ya que existen versiones más eficientes del algoritmo anterior.\n",
    "\n",
    "### Versión eficiente del algoritmo\n",
    "\n",
    "La versión eficiente del algoritmo se basa en la **exponenciación por cuadrados**. Este método de exponenciación es algo más sofisticado, ya que para reducir el número de operaciones a realizar se basa en la representación binaria de $b$ y en calcular cada vez el cuadrado de la potencia anterior.\n",
    "\n",
    "Es decir, en vez de ir calculando $a$, $a^2$, $a^3$, $a^4, \\dots, a^b$, se va calculando $a$, $a^2$, $a^4, \\dots$ y se van combinando los resultados para obtener $a^b$. Las potencias que se combinan dependen de la representación binaria de $b$, ya que en cada paso se comprueba si el bit más pequeño (el bit más a la derecha) es 0 o 1. En caso de ser 1, se utiliza dicha potencia y se multiplica el resultado anterior por dicha potencia. En caso contrario, no se utiliza dicha potencia para el cálculo de $a^b$. Posteriormente, el valor de $b$ se ve reducido a la mitad, y se calcula el siguiente cuadrado, y así sucesivamente hasta que $b = 0$.\n",
    "\n",
    "Para entender mejor la explicación, vamos a ver un ejemplo sencillo. Supongamos que queremos calcular $3^{19}$. Vamos a ir guardando el resultado en una variable llamada $p$, la cuál inicialmente vale $p = 1$. Vamos a ir calculando los cuadrados y guardándolos en una variable llamada $a$, la cuál inicialmente vale $a = 3$.\n",
    "\n",
    "|Iteración|a|b|p|\n",
    "|---------|-|-|-|\n",
    "|Iteración 1|3|19|1|\n",
    "|Iteración 2|$3^2$|9|3|\n",
    "|Iteración 3|$3^4$|4|$3^3$|\n",
    "|Iteración 4|$3^8$|2|$3^3$|\n",
    "|Iteración 5|$3^{16}$|1|$3^3$|\n",
    "|Iteración 6|$3^{32}$|0|$3^{19}$|"
   ]
  },
  {
   "cell_type": "code",
   "execution_count": 6,
   "metadata": {},
   "outputs": [],
   "source": [
    "def potencia_modular_efic(a, b, m):\n",
    "    p = 1\n",
    "\n",
    "    while b > 0:\n",
    "        if b % 2 == 1:\n",
    "            p = (p * a) % m\n",
    "        \n",
    "        # Tambien se podria hacer un shift a la derecha\n",
    "        # b = b >> 1\n",
    "        b = b // 2\n",
    "        \n",
    "        a = (a * a) % m\n",
    "    \n",
    "    return p"
   ]
  },
  {
   "cell_type": "code",
   "execution_count": 6,
   "metadata": {},
   "outputs": [
    {
     "name": "stdout",
     "output_type": "stream",
     "text": [
      "La potencia modular de a = 11111111, b = 123456789 y m = 1122334455 es 393368921\n",
      "Tiempo: 3.886222839355469e-05 segundos\n"
     ]
    }
   ],
   "source": [
    "a = 11111111\n",
    "b = 123456789\n",
    "m = 1122334455\n",
    "\n",
    "t1 = time.time()\n",
    "p = potencia_modular_efic(a, b, m)\n",
    "t2 = time.time()\n",
    "\n",
    "print(f\"La potencia modular de a = {a}, b = {b} y m = {m} es {p}\")\n",
    "print(f\"Tiempo: {t2-t1} segundos\")"
   ]
  },
  {
   "cell_type": "markdown",
   "metadata": {},
   "source": [
    "## Tests de primalidad"
   ]
  },
  {
   "cell_type": "code",
   "execution_count": 11,
   "metadata": {},
   "outputs": [],
   "source": [
    "import random\n",
    "\n",
    "def test_fermat(p):\n",
    "    \"\"\"\n",
    "    Test de primalidad de Fermat\n",
    "    \"\"\"\n",
    "    for _ in range(100):\n",
    "        a = random.randint(2, p-2)\n",
    "        print(a, potencia_modular_efic(a, p-1, p))"
   ]
  },
  {
   "cell_type": "code",
   "execution_count": 12,
   "metadata": {},
   "outputs": [],
   "source": [
    "def raices_uno(p):\n",
    "    \"\"\"\n",
    "    Funcion que encuentra todas las soluciones de la ecuacion x^2 - 1 = 0 en Z_p\n",
    "    \"\"\"\n",
    "    l = []\n",
    "\n",
    "    for i in range(1, p):\n",
    "        if (i * i) % p == 1:\n",
    "            l.append(i)\n",
    "    \n",
    "    return l"
   ]
  },
  {
   "cell_type": "code",
   "execution_count": 9,
   "metadata": {},
   "outputs": [
    {
     "data": {
      "text/plain": [
       "[1, 8, 13, 20]"
      ]
     },
     "execution_count": 9,
     "metadata": {},
     "output_type": "execute_result"
    }
   ],
   "source": [
    "raices_uno(21)"
   ]
  },
  {
   "cell_type": "markdown",
   "metadata": {},
   "source": [
    "Si $p$ es primo, $a^{p-1} 1 \\mod p$\n",
    "\n",
    "Si $p$ es primo, $x^2 - 1 = 0$ tiene dos soluciones.\n",
    "\n",
    "Vamos a hacer algunas pruebas. Vamos a probar con $p = 1729$."
   ]
  },
  {
   "cell_type": "code",
   "execution_count": 13,
   "metadata": {},
   "outputs": [
    {
     "name": "stdout",
     "output_type": "stream",
     "text": [
      "122 1\n",
      "1295 742\n",
      "1151 1\n",
      "508 1\n",
      "1123 1\n",
      "1143 1\n",
      "1029 742\n",
      "1144 533\n",
      "802 1\n",
      "581 742\n",
      "539 742\n",
      "1093 1\n",
      "818 1\n",
      "383 1\n",
      "1530 1\n",
      "987 742\n",
      "1586 533\n",
      "1421 742\n",
      "885 1\n",
      "276 1\n",
      "754 533\n",
      "702 533\n",
      "960 1\n",
      "305 1\n",
      "624 533\n",
      "1286 1\n",
      "1315 1\n",
      "1235 988\n",
      "527 1\n",
      "806 533\n",
      "1716 533\n",
      "1654 1\n",
      "802 1\n",
      "154 742\n",
      "1403 1\n",
      "720 1\n",
      "177 1\n",
      "1133 1\n",
      "1289 1\n",
      "1322 1\n",
      "33 1\n",
      "349 1\n",
      "433 1\n",
      "1137 1\n",
      "229 1\n",
      "466 1\n",
      "1465 1\n",
      "460 1\n",
      "1025 1\n",
      "516 1\n",
      "1556 1\n",
      "591 1\n",
      "1161 1\n",
      "799 1\n",
      "127 1\n",
      "1520 456\n",
      "708 1\n",
      "628 1\n",
      "1382 1\n",
      "37 1\n",
      "907 1\n",
      "1666 742\n",
      "1014 533\n",
      "1303 1\n",
      "115 1\n",
      "1002 1\n",
      "1059 1\n",
      "1060 1\n",
      "263 1\n",
      "903 742\n",
      "107 1\n",
      "1208 1\n",
      "863 1\n",
      "1116 1\n",
      "202 1\n",
      "1619 1\n",
      "375 1\n",
      "938 742\n",
      "735 742\n",
      "337 1\n",
      "449 1\n",
      "1132 1\n",
      "1462 1\n",
      "1405 1\n",
      "143 533\n",
      "108 1\n",
      "1044 1\n",
      "1491 742\n",
      "1567 1\n",
      "267 1\n",
      "1079 533\n",
      "739 1\n",
      "340 1\n",
      "215 1\n",
      "181 1\n",
      "1712 1\n",
      "191 1\n",
      "1316 742\n",
      "13 533\n",
      "698 1\n"
     ]
    }
   ],
   "source": [
    "test_fermat(1729)"
   ]
  },
  {
   "cell_type": "code",
   "execution_count": 14,
   "metadata": {},
   "outputs": [
    {
     "data": {
      "text/plain": [
       "[1, 246, 664, 818, 911, 1065, 1483, 1728]"
      ]
     },
     "execution_count": 14,
     "metadata": {},
     "output_type": "execute_result"
    }
   ],
   "source": [
    "raices_uno(1729)"
   ]
  },
  {
   "cell_type": "markdown",
   "metadata": {},
   "source": [
    "Vamos a probar otra cosa. Vamos a escribir $p-1$ como producto de una potencia de 2 y un número impar. En este caso, se da que:\n",
    "\n",
    "$$1728 = 2^6 \\cdot 27$$\n",
    "\n",
    "Si calculamos ahora la potencia modular $2^{27} \\mod 1729$:"
   ]
  },
  {
   "cell_type": "code",
   "execution_count": 15,
   "metadata": {},
   "outputs": [
    {
     "data": {
      "text/plain": [
       "645"
      ]
     },
     "execution_count": 15,
     "metadata": {},
     "output_type": "execute_result"
    }
   ],
   "source": [
    "potencia_modular_efic(2, 27, 1729)"
   ]
  },
  {
   "cell_type": "markdown",
   "metadata": {},
   "source": [
    "Si seguimos calculando los cuadrados, obtenemos los siguiente:"
   ]
  },
  {
   "cell_type": "code",
   "execution_count": 16,
   "metadata": {},
   "outputs": [
    {
     "data": {
      "text/plain": [
       "1065"
      ]
     },
     "execution_count": 16,
     "metadata": {},
     "output_type": "execute_result"
    }
   ],
   "source": [
    "potencia_modular_efic(645, 2, 1729)"
   ]
  },
  {
   "cell_type": "code",
   "execution_count": 17,
   "metadata": {},
   "outputs": [
    {
     "data": {
      "text/plain": [
       "1"
      ]
     },
     "execution_count": 17,
     "metadata": {},
     "output_type": "execute_result"
    }
   ],
   "source": [
    "potencia_modular_efic(1065, 2, 1729)"
   ]
  },
  {
   "cell_type": "markdown",
   "metadata": {},
   "source": [
    "## Test de Miller-Rabin\n",
    "\n",
    "Supongamos dos números: $n$, un número que queremos determinar si es primo o no, y $a$, un testigo tal que $2 \\leq a \\leq n-2$. El test consta de los siguientes pasos:\n",
    "\n",
    "1. Descomopner $n-1$ como $2^u \\cdot s$, con $s$ impar.\n",
    "2. Calcular $a = a^s \\mod n$.\n",
    "3. Si $a = 1$ o $a = n-1$ entonces $n$ es probable primo.\n",
    "4. Desde $i = 1$ hasta $n-1$:\n",
    "  1. $a = a^2 \\mod n$\n",
    "  2. Si $a = 1$ entonces $n$ no es primo.\n",
    "  3. Si $a = n-1$ entonces $n$ es posible primo.\n",
    "5. No es primo."
   ]
  },
  {
   "cell_type": "code",
   "execution_count": 20,
   "metadata": {},
   "outputs": [],
   "source": [
    "def descomposicion(n):\n",
    "    u = 0\n",
    "    s = n\n",
    "    \n",
    "    while s % 2 == 0:\n",
    "        u += 1\n",
    "        s = s // 2\n",
    "    \n",
    "    return u, s"
   ]
  },
  {
   "cell_type": "code",
   "execution_count": 21,
   "metadata": {
    "scrolled": true
   },
   "outputs": [
    {
     "data": {
      "text/plain": [
       "(6, 27)"
      ]
     },
     "execution_count": 21,
     "metadata": {},
     "output_type": "execute_result"
    }
   ],
   "source": [
    "descomposicion(1728)"
   ]
  },
  {
   "cell_type": "code",
   "execution_count": 27,
   "metadata": {},
   "outputs": [],
   "source": [
    "def miller_rabin(n, a):    \n",
    "    # 1. Descomponer n-1 como 2^u * s con s impar\n",
    "    u, s = descomposicion(n-1)\n",
    "    \n",
    "    # 2. Calcular a = a^s mod n\n",
    "    a = potencia_modular_efic(a, s, n)\n",
    "    \n",
    "    if a == 1 or a == n-1:\n",
    "        return True\n",
    "    \n",
    "    for i in range(1, u):\n",
    "        a = potencia_modular_efic(a, 2, n)\n",
    "        \n",
    "        if a == 1:\n",
    "            return False\n",
    "        if a == n-1:\n",
    "            return True\n",
    "    \n",
    "    return False"
   ]
  },
  {
   "cell_type": "code",
   "execution_count": 28,
   "metadata": {},
   "outputs": [
    {
     "data": {
      "text/plain": [
       "False"
      ]
     },
     "execution_count": 28,
     "metadata": {},
     "output_type": "execute_result"
    }
   ],
   "source": [
    "miller_rabin(1729, 2)"
   ]
  },
  {
   "cell_type": "code",
   "execution_count": 29,
   "metadata": {},
   "outputs": [
    {
     "name": "stdout",
     "output_type": "stream",
     "text": [
      "Para el valor a: 1462 el resultado del test es False\n"
     ]
    },
    {
     "data": {
      "text/plain": [
       "False"
      ]
     },
     "execution_count": 29,
     "metadata": {},
     "output_type": "execute_result"
    }
   ],
   "source": [
    "def test_miller_rabin(n, m):\n",
    "    for i in range(m):\n",
    "        a = random.randint(2, n-2)\n",
    "        \n",
    "        es_prob_primo = miller_rabin(n, a)\n",
    "        \n",
    "        print(f\"Para el valor a: {a} el resultado del test es {es_prob_primo}\")\n",
    "        \n",
    "        if not es_prob_primo:\n",
    "            return False\n",
    "    \n",
    "    return True\n",
    "\n",
    "test_miller_rabin(1729, 10)"
   ]
  },
  {
   "cell_type": "markdown",
   "metadata": {},
   "source": [
    "Un número $p$ es primo fuerte si tanto $p$ como $\\frac{p-1}{2}$ son primos. Por ejemplo, $p = 23$ es un primo fuerte, pero $p = 29$ no es un primo fuerte."
   ]
  }
 ],
 "metadata": {
  "kernelspec": {
   "display_name": "Python 3",
   "language": "python",
   "name": "python3"
  },
  "language_info": {
   "codemirror_mode": {
    "name": "ipython",
    "version": 3
   },
   "file_extension": ".py",
   "mimetype": "text/x-python",
   "name": "python",
   "nbconvert_exporter": "python",
   "pygments_lexer": "ipython3",
   "version": "3.7.5"
  }
 },
 "nbformat": 4,
 "nbformat_minor": 4
}
