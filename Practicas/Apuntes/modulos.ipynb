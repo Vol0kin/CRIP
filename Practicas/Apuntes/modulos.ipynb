{
 "cells": [
  {
   "cell_type": "markdown",
   "metadata": {},
   "source": [
    "# Sesión inicial: Potencia modular y tests de primalidad\n",
    "\n",
    "En esta primera sesión, vamos a introducir algunos conceptos básicos como la **potencia modular**, la cuál es un elemento clave en la criptografía. Veremos también algunos ejemplos básicos de **tests de primalidad**, los cuáles nos pueden ayudar a determinar si un número es primo o no con un determinado margen de error. Dichos tests también son de mucha utilidad en la criptografía, como estudiaremos más adelante.\n",
    "\n",
    "## Potencia modular\n",
    "\n",
    "### Definición\n",
    "\n",
    "Vamos a ver primero la potencia modular. Dados tres números $a$, $b$ y $m$ tales que $a, b, m \\in \\mathbb{N}$, definimos la potencia modular como:\n",
    "\n",
    "$$ p = a^b \\mod m$$\n",
    "\n",
    "donde $p \\in \\mathbb{N}$ es el resultado de dicha operación.\n",
    "\n",
    "### Versión básica del algoritmo\n",
    "\n",
    "Un algoritmo básico para calcular la potencia modular es el siguiente:"
   ]
  },
  {
   "cell_type": "code",
   "execution_count": 1,
   "metadata": {},
   "outputs": [],
   "source": [
    "def potencia_modular(a, b, m):\n",
    "    # Potencia\n",
    "    p = 1\n",
    "    \n",
    "    # Multiplicar y hacer el modulo en cada iteracion\n",
    "    for _ in range(b):\n",
    "        p = (p * a) % m\n",
    "\n",
    "    return p"
   ]
  },
  {
   "cell_type": "markdown",
   "metadata": {},
   "source": [
    "Este algoritmo realiza en cada iteración la operación $p = p \\cdot a \\mod m$. De esta forma, nos aseguramos siempre que $p < m$, haciendo por tanto que no se estén utilizando números más grandes de la cuenta, lo cuál implicaría utilizar memoria extra (en Python los números pueden ser de un tamaño arbitrario a costa de utilizar memoria extra).\n",
    "\n",
    "Vamos a probar con algunos ejemplos para ver cuánto tarda en hacer el cálculo. Las operaciones a probar son las siguientes:\n",
    "\n",
    "$$19^{66} \\mod 74$$\n",
    "$$711^{586} \\mod 944$$"
   ]
  },
  {
   "cell_type": "code",
   "execution_count": 2,
   "metadata": {},
   "outputs": [
    {
     "name": "stdout",
     "output_type": "stream",
     "text": [
      "La potencia modular de a = 19, b = 66 y m = 74 es 27\n",
      "Tiempo: 5.5789947509765625e-05 segundos\n"
     ]
    }
   ],
   "source": [
    "import time\n",
    "\n",
    "a = 19\n",
    "b = 66\n",
    "m = 74\n",
    "\n",
    "t1 = time.time()\n",
    "p = potencia_modular(a, b, m)\n",
    "t2 = time.time()\n",
    "\n",
    "print(f\"La potencia modular de a = {a}, b = {b} y m = {m} es {p}\")\n",
    "print(f\"Tiempo: {t2-t1} segundos\")"
   ]
  },
  {
   "cell_type": "code",
   "execution_count": 3,
   "metadata": {},
   "outputs": [
    {
     "name": "stdout",
     "output_type": "stream",
     "text": [
      "La potencia modular de a = 711, b = 586 y m = 944 es 257\n",
      "Tiempo: 7.724761962890625e-05 segundos\n"
     ]
    }
   ],
   "source": [
    "a = 711\n",
    "b = 586\n",
    "m = 944\n",
    "\n",
    "t1 = time.time()\n",
    "p = potencia_modular(a, b, m)\n",
    "t2 = time.time()\n",
    "\n",
    "print(f\"La potencia modular de a = {a}, b = {b} y m = {m} es {p}\")\n",
    "print(f\"Tiempo: {t2-t1} segundos\")"
   ]
  },
  {
   "cell_type": "markdown",
   "metadata": {},
   "source": [
    "Vemos que para estos casos pequeños, la función tarda relativamente poco. No obstante, vamos a probar con un caso más grande, para ver qué tal se comporta este algoritmo. Probaremos la siguiente operación:\n",
    "\n",
    "$$11111111^{123456789} \\mod 1122334455$$"
   ]
  },
  {
   "cell_type": "code",
   "execution_count": 4,
   "metadata": {},
   "outputs": [
    {
     "name": "stdout",
     "output_type": "stream",
     "text": [
      "La potencia modular de a = 11111111, b = 123456789 y m = 1122334455 es 393368921\n",
      "Tiempo: 10.7364022731781 segundos\n"
     ]
    }
   ],
   "source": [
    "a = 11111111\n",
    "b = 123456789\n",
    "m = 1122334455\n",
    "\n",
    "t1 = time.time()\n",
    "p = potencia_modular(a, b, m)\n",
    "t2 = time.time()\n",
    "\n",
    "print(f\"La potencia modular de a = {a}, b = {b} y m = {m} es {p}\")\n",
    "print(f\"Tiempo: {t2-t1} segundos\")"
   ]
  },
  {
   "cell_type": "markdown",
   "metadata": {},
   "source": [
    "Vemos que en este caso el tiempo es bastante grande, de más de 10 segundos. Esto es un problema, ya que con números más grandes podemos tardar incluso minutos, años o incluso miles de millones de años, dependiendo de qué valores\n",
    "estemos utilizando.\n",
    "\n",
    "El motivo por el que sucede esto se debe a que el algoritmo anterior es del orden de $\\mathcal{O}(b)$. Esto significa que, al ser un algoritmo de orden lineal, el número de operaciones que se van a realizar depende del valor del exponente $b$. A mayor valor de $b$, mayor número de operaciones se van a hacer.\n",
    "\n",
    "Vemos por tanto que nuestro algoritmo básico, a pesar de funcionar muy bien con casos pequeños, para casos más grandes es completamente inviable. No obstante, es pronto aun para darse por vencidos, ya que existen versiones más eficientes del algoritmo anterior.\n",
    "\n",
    "### Versión eficiente del algoritmo\n",
    "\n",
    "La versión eficiente del algoritmo se basa en la **exponenciación por cuadrados**."
   ]
  },
  {
   "cell_type": "code",
   "execution_count": 5,
   "metadata": {},
   "outputs": [],
   "source": [
    "def potencia_modular_efic(a, b, m):\n",
    "    p = 1\n",
    "\n",
    "    while b > 0:\n",
    "        if b % 2 == 1:\n",
    "            p = (p * a) % m\n",
    "        \n",
    "        # Tambien se podria hacer un shift a la derecha\n",
    "        # b = b >> 1\n",
    "        b = b // 2\n",
    "        \n",
    "        a = (a * a) % m\n",
    "    \n",
    "    return p"
   ]
  },
  {
   "cell_type": "code",
   "execution_count": 6,
   "metadata": {},
   "outputs": [
    {
     "name": "stdout",
     "output_type": "stream",
     "text": [
      "La potencia modular de a = 11111111, b = 123456789 y m = 1122334455 es 393368921\n",
      "Tiempo: 3.886222839355469e-05 segundos\n"
     ]
    }
   ],
   "source": [
    "a = 11111111\n",
    "b = 123456789\n",
    "m = 1122334455\n",
    "\n",
    "t1 = time.time()\n",
    "p = potencia_modular_efic(a, b, m)\n",
    "t2 = time.time()\n",
    "\n",
    "print(f\"La potencia modular de a = {a}, b = {b} y m = {m} es {p}\")\n",
    "print(f\"Tiempo: {t2-t1} segundos\")"
   ]
  }
 ],
 "metadata": {
  "kernelspec": {
   "display_name": "Python 3",
   "language": "python",
   "name": "python3"
  },
  "language_info": {
   "codemirror_mode": {
    "name": "ipython",
    "version": 3
   },
   "file_extension": ".py",
   "mimetype": "text/x-python",
   "name": "python",
   "nbconvert_exporter": "python",
   "pygments_lexer": "ipython3",
   "version": "3.7.5"
  }
 },
 "nbformat": 4,
 "nbformat_minor": 4
}
